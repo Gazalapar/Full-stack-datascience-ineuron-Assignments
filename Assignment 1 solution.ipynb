{
 "cells": [
  {
   "cell_type": "markdown",
   "id": "3940e46a",
   "metadata": {},
   "source": [
    "1. In the below elements which of them are values or an expression? eg:- values can be\n",
    "    integer or string and expressions will be mathematical operators.\n",
    "*\n",
    "'hello'\n",
    "-87.8\n",
    "-\n",
    "/\n",
    "   +\n",
    "6"
   ]
  },
  {
   "cell_type": "code",
   "execution_count": null,
   "id": "2ed394df",
   "metadata": {},
   "outputs": [],
   "source": [
    "expressions: * , -, /,+,-87.8\n",
    "values: 'hello',6,   \n",
    "    "
   ]
  },
  {
   "cell_type": "markdown",
   "id": "4c805354",
   "metadata": {},
   "source": [
    "2. What is the difference between string and variable?"
   ]
  },
  {
   "cell_type": "code",
   "execution_count": null,
   "id": "145886c4",
   "metadata": {},
   "outputs": [],
   "source": [
    " A Variable is a store of information, and a String is a type of information you would store in a Variable ,\n",
    "moreover string is a sequence of characters enclosed in the double quotes. \n",
    "example:\n",
    "    x=\"hello\"\n",
    "    here x is a variable of type string\n",
    "    x is storing information which is a string "
   ]
  },
  {
   "cell_type": "markdown",
   "id": "c4859151",
   "metadata": {},
   "source": [
    "3. Describe three different data types."
   ]
  },
  {
   "cell_type": "code",
   "execution_count": null,
   "id": "34b6dcaf",
   "metadata": {},
   "outputs": [],
   "source": [
    "The data types defined in Python are given below.\n",
    "\n",
    "1.Numbers\n",
    "2.Sequence Type\n",
    "3.Boolean\n",
    "4.Set\n",
    "5.Dictionary\n",
    " \n",
    "    \n",
    "    Numbers:-Number stores numeric values. The integer, float, and complex values belong to a Python Numbers data-type. \n",
    "        Python provides the type() function to know the data-type of the variable.\n",
    "        \n",
    "    Sequence type:-Strings,List,Tuple comes under sequence type.\n",
    "        \n",
    "        Strings:The string can be defined as the sequence of characters represented in the quotation marks.\n",
    "            In Python, we can use single, double, or triple quotes to define a string.\n",
    "            \n",
    "        List:Python Lists are similar to arrays in C. However, the list can contain data of different types. \n",
    "            The items stored in the list are separated with a comma (,) and enclosed within square brackets []. \n",
    "            Lists are mutable.\n",
    "            \n",
    "        tuple: A tuple is similar to the list in many ways. Like lists, tuples also contain the collection \n",
    "            of the items of different data types. The items of the tuple are separated with a comma (,) and enclosed \n",
    "            in parentheses (). tuples are immutable.\n",
    "   \n",
    "    Boolean:-Boolean type provides two built-in values, True and False. These values are used to determine the given\n",
    "        statement true or false. It denotes by the class bool.  True can be represented by any non-zero value \n",
    "        or 'T' whereas false can be represented by the 0 or 'F'.\n",
    "            \n",
    "        "
   ]
  },
  {
   "cell_type": "markdown",
   "id": "672b2ceb",
   "metadata": {},
   "source": [
    "4. What is an expression made up of? What do all expressions do?"
   ]
  },
  {
   "cell_type": "code",
   "execution_count": null,
   "id": "43575fcb",
   "metadata": {},
   "outputs": [],
   "source": [
    "An expression is a combination of operators and operands that is interpreted to produce some other value. \n",
    "In any programming language, an expression is evaluated as per the precedence of its operators. \n",
    "So that if there is more than one operator in an expression, their precedence decides which operation will \n",
    "be performed first.\n"
   ]
  },
  {
   "cell_type": "code",
   "execution_count": 1,
   "id": "3129b020",
   "metadata": {},
   "outputs": [
    {
     "data": {
      "text/plain": [
       "8"
      ]
     },
     "execution_count": 1,
     "metadata": {},
     "output_type": "execute_result"
    }
   ],
   "source": [
    "4*7+20-40 # Is an Expression, The Python Interpreter Evaluates it to 8"
   ]
  },
  {
   "cell_type": "markdown",
   "id": "c1a26f0f",
   "metadata": {},
   "source": [
    "5. This assignment statements, like spam = 10. What is the difference between anexpression and a statement?"
   ]
  },
  {
   "cell_type": "code",
   "execution_count": null,
   "id": "a0976ac3",
   "metadata": {},
   "outputs": [],
   "source": [
    "An expression is a combination of values, variables, and operators.\n",
    "When we type an expression at the prompt, the interpreter evaluates it, \n",
    "which means that it finds the value of the expression.\n",
    "eg: 4*5+20-40 is an example of a statement\n",
    "    \n",
    "A statement is a unit of code that has an effect, like creating a variable or\n",
    "displaying a value.When we type a statement, the interpreter executes it, \n",
    "which means that it does whatever the statement says. In general, statements don’t have values.\n",
    "\n",
    "eg: variable declaration and assignment are statements because they do not return a value\n"
   ]
  },
  {
   "cell_type": "code",
   "execution_count": 3,
   "id": "ac5848a2",
   "metadata": {},
   "outputs": [
    {
     "name": "stdout",
     "output_type": "stream",
     "text": [
      "Hello World !\n"
     ]
    }
   ],
   "source": [
    "#Example:\n",
    "2*5/20-40 # Is a Expression\n",
    "Name = 'gazala' # Is a Statement\n",
    "print(\"Hello World !\") # Is a Expression Statement"
   ]
  },
  {
   "cell_type": "markdown",
   "id": "1038180e",
   "metadata": {},
   "source": [
    "6. After running the following code, what does the variable bacon contain \n",
    "bacon = 22\n",
    "bacon + 1"
   ]
  },
  {
   "cell_type": "code",
   "execution_count": null,
   "id": "a24e8eb9",
   "metadata": {},
   "outputs": [],
   "source": [
    "The variable bacon is set to 22 .The expression bacon + 1 does not reassign \n",
    "the value in bacon (that would the case if the expression is like bacon = bacon + 1 instead of bacon + 1)"
   ]
  },
  {
   "cell_type": "code",
   "execution_count": 5,
   "id": "3f69463c",
   "metadata": {},
   "outputs": [
    {
     "name": "stdout",
     "output_type": "stream",
     "text": [
      "22\n"
     ]
    }
   ],
   "source": [
    "# Example Case#1\n",
    "bacon=22\n",
    "bacon+1\n",
    "print(bacon)\n"
   ]
  },
  {
   "cell_type": "code",
   "execution_count": null,
   "id": "aec4bf33",
   "metadata": {},
   "outputs": [],
   "source": [
    "hence bacon contains 22."
   ]
  },
  {
   "cell_type": "markdown",
   "id": "4bbea2ca",
   "metadata": {},
   "source": [
    "7. What should the values of the following two terms be?\n",
    "'spam' + 'spamspam'\n",
    "'spam' * 3\n"
   ]
  },
  {
   "cell_type": "code",
   "execution_count": null,
   "id": "b3720d25",
   "metadata": {},
   "outputs": [],
   "source": [
    "Both expressions evaluate to the string 'spamspamspam' Where as\n",
    "the first expression follows String Concatentation and \n",
    "the second expression follows String Multiplication\n"
   ]
  },
  {
   "cell_type": "code",
   "execution_count": 6,
   "id": "8b38ad5e",
   "metadata": {},
   "outputs": [
    {
     "name": "stdout",
     "output_type": "stream",
     "text": [
      "spamspamspam\n",
      "spamspamspam\n"
     ]
    }
   ],
   "source": [
    "print('spam'+'spamspam') # string concatenation\n",
    "print('spam'*3) # string multiplication"
   ]
  },
  {
   "cell_type": "markdown",
   "id": "a1a04541",
   "metadata": {},
   "source": [
    "8. Why is eggs a valid variable name while 100 is invalid?"
   ]
  },
  {
   "cell_type": "code",
   "execution_count": null,
   "id": "9a5262e0",
   "metadata": {},
   "outputs": [],
   "source": [
    "As per python,Variable names cannot begin with a number. The python rules for naming a variable are :-\n",
    "\n",
    "1.Variable name must start with a letter or the underscore character.\n",
    "2.Variable name cannot start with a number.\n",
    "3.Variable name can only contain alpha-numeric characters and underscores (A-z, 0-9, & _ ).\n",
    "4.Variable names are case-sensitive (name, INEURON and ineuron are three different variables).\n",
    "5.The reserved words(keywords) cannot be used naming the variable.\n",
    "     \n",
    "   "
   ]
  },
  {
   "cell_type": "code",
   "execution_count": 7,
   "id": "23d2b4b4",
   "metadata": {},
   "outputs": [
    {
     "ename": "SyntaxError",
     "evalue": "cannot assign to literal (Temp/ipykernel_24072/1935353410.py, line 2)",
     "output_type": "error",
     "traceback": [
      "\u001b[1;36m  File \u001b[1;32m\"C:\\Users\\GAZALA~1\\AppData\\Local\\Temp/ipykernel_24072/1935353410.py\"\u001b[1;36m, line \u001b[1;32m2\u001b[0m\n\u001b[1;33m    100='hello' # Invalid Variable Initilization\u001b[0m\n\u001b[1;37m    ^\u001b[0m\n\u001b[1;31mSyntaxError\u001b[0m\u001b[1;31m:\u001b[0m cannot assign to literal\n"
     ]
    }
   ],
   "source": [
    "egg='sjhjd' # Valid variable Initilization\n",
    "100='hello' # Invalid Variable Initilization\n",
    "print(egg) #prints the value of egg ie Ineuron\n",
    "print(100) # Raises a Syntax Error as 100 is not a valid variable name"
   ]
  },
  {
   "cell_type": "markdown",
   "id": "c6504b47",
   "metadata": {},
   "source": [
    "9. What three functions can be used to get the integer, floating-point number, or string version of a value?"
   ]
  },
  {
   "cell_type": "code",
   "execution_count": null,
   "id": "9b748834",
   "metadata": {},
   "outputs": [],
   "source": [
    "The int(),float(),and str() functions will evaluate to the integer,\n",
    "floating-point number,string version of the value passed to them."
   ]
  },
  {
   "cell_type": "code",
   "execution_count": 8,
   "id": "fe6fddac",
   "metadata": {},
   "outputs": [
    {
     "name": "stdout",
     "output_type": "stream",
     "text": [
      "int(50.0) ->  50\n",
      "float(50) ->  50.0\n",
      "str(50) ->  50\n"
     ]
    }
   ],
   "source": [
    "# Examples:\n",
    "print('int(50.0) -> ',int(50.0)) # int() function converts given input to int\n",
    "print('float(50) -> ',float(50)) # float() function converts given input to float\n",
    "print('str(50) -> ',str(50)) # str() function converts given input to string"
   ]
  },
  {
   "cell_type": "markdown",
   "id": "db3dc825",
   "metadata": {},
   "source": [
    "10. Why does this expression cause an error? How can you fix it?\n",
    "'I have eaten'  + 99 + 'burritos.'"
   ]
  },
  {
   "cell_type": "code",
   "execution_count": null,
   "id": "083e9d65",
   "metadata": {},
   "outputs": [],
   "source": [
    "This cause of error is 99.because 99 is not a string.\n",
    "99 must be typecasted to a string to fix this error. the correct way is:"
   ]
  },
  {
   "cell_type": "code",
   "execution_count": 9,
   "id": "89311f27",
   "metadata": {},
   "outputs": [
    {
     "name": "stdout",
     "output_type": "stream",
     "text": [
      "I have eaten 99 burritos\n"
     ]
    }
   ],
   "source": [
    "print('I have eaten '+str(99)+' burritos')"
   ]
  }
 ],
 "metadata": {
  "kernelspec": {
   "display_name": "Python 3 (ipykernel)",
   "language": "python",
   "name": "python3"
  },
  "language_info": {
   "codemirror_mode": {
    "name": "ipython",
    "version": 3
   },
   "file_extension": ".py",
   "mimetype": "text/x-python",
   "name": "python",
   "nbconvert_exporter": "python",
   "pygments_lexer": "ipython3",
   "version": "3.9.7"
  }
 },
 "nbformat": 4,
 "nbformat_minor": 5
}
